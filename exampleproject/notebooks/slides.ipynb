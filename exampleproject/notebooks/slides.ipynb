{
 "metadata": {
  "name": ""
 },
 "nbformat": 3,
 "nbformat_minor": 0,
 "worksheets": [
  {
   "cells": [
    {
     "cell_type": "markdown",
     "metadata": {
      "slideshow": {
       "slide_type": "slide"
      }
     },
     "source": [
      "Using IPython Notebook to analyze Django Model data\n",
      "==================================================="
     ]
    },
    {
     "cell_type": "markdown",
     "metadata": {
      "slideshow": {
       "slide_type": "subslide"
      }
     },
     "source": [
      "Who Am I?\n",
      "========="
     ]
    },
    {
     "cell_type": "markdown",
     "metadata": {
      "slideshow": {
       "slide_type": "fragment"
      }
     },
     "source": [
      "Adam Haney\n",
      "----------\n",
      "  - ![Adam](https://s3.amazonaws.com/bellhops/img/Haney+Jpeg.jpg \"Optional title\")\n",
      "  - @adamhaney\n",
      "  - strayentrepreneur.com\n",
      "  - adam.haney@campusbellhops.com"
     ]
    },
    {
     "cell_type": "markdown",
     "metadata": {},
     "source": [
      "An Introduction to IPython Notebook\n",
      "==================================="
     ]
    },
    {
     "cell_type": "markdown",
     "metadata": {},
     "source": [
      "Now Using it with Django\n",
      "========================"
     ]
    },
    {
     "cell_type": "markdown",
     "metadata": {
      "slideshow": {
       "slide_type": "slide"
      }
     },
     "source": [
      "Exporting Slides\n",
      "================\n",
      "\n",
      "  - pygments\n",
      "  - pandoc (http://johnmacfarlane.net/pandoc/installing.html, not pip installable)"
     ]
    },
    {
     "cell_type": "code",
     "collapsed": false,
     "input": [],
     "language": "python",
     "metadata": {},
     "outputs": []
    }
   ],
   "metadata": {}
  }
 ]
}